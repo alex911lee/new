{
 "metadata": {
  "language_info": {
   "codemirror_mode": {
    "name": "ipython",
    "version": 3
   },
   "file_extension": ".py",
   "mimetype": "text/x-python",
   "name": "python",
   "nbconvert_exporter": "python",
   "pygments_lexer": "ipython3",
   "version": "3.9.1-final"
  },
  "orig_nbformat": 2,
  "kernelspec": {
   "name": "python39164bit7c985ea6973948f88124b25f9d5d46d8",
   "display_name": "Python 3.9.1 64-bit"
  }
 },
 "nbformat": 4,
 "nbformat_minor": 2,
 "cells": [
  {
   "cell_type": "code",
   "execution_count": 1,
   "metadata": {},
   "outputs": [
    {
     "output_type": "stream",
     "name": "stdout",
     "text": [
      "searching  C:\\Users\\007311\\Documents\\books\nApress - Beginning Python From Novice to Professional, Hetland, 3e, 2017.pdf\nApress - Python Data Analytics_ With Pandas, NumPy, and Matplotlib - Fabio Nelli, 2018.pdf\nO'Reilly - Python for Data Analysis_ Data Wrangling with Pandas, NumPy, and IPython, 2nd ed. 2017.pdf\nO’Reilly - Functional Programming in Python, 2015.pdf\nO’Reilly - Reactive_Microservices_Architecture.pdf\nPACKT - Functional Python Programming, 2015.pdf\nPrentice-Hall - Clean Architecture_ A Craftsman - Robert C. Martin.pdf\nPrentice-Hall - Clean Code_ A Handbook of Agile Software C - Robert C. Martin.pdf\nPrentice-Hall - The Clean Coder A Code Of Conduct For Professional Programmers, Martin, 2011.pdf\nSpringer - Data Science and Big Data Computing Frameworks and Methodologies, 2016.pdf\nWiley - Functional Programming for Dummies, 2019.pdf\nWiley - Pattern-Oriented Software Architecture - A System of Patterns, Volume 1.pdf\nsearching  <DirEntry 'JS'>\nApress - Beginning Functional JavaScript- Functional Programming With JavaScript Using EcmaScript 6, 2017.pdf\nApress - Beginning Javascript With Dom Scripting And Ajax From Novice To Professional, 2006.pdf\nApress - Beginning JavaScript_ The Ultimate Guide to Modern JavaScript Development, 3rd ed., 2019.pdf\nLean - Rapid Prototyping with JS_ Agile JavaScript Development, Start learning Backbone.js, Node.js and MongoDB.pdf\nOreilly - JavaScript.The.Definitive.Guide.6th.Edition.Apr.2011.pdf\nPackt - Mastering TypeScript Ed2 (2017).pdf\nPackt - Mastering TypeScript_ Build enterprise-ready, industrial-strength web applications using TypeScript and leading JavaScript frameworks, 2nd.pdf\nPackt - TypeScript Modern JavaScript Development 2016.pdf\nPearson - Javascript Absolute Beginner's Guide, 1St Ed (2016).pdf\nReactive Programming with RxJS - Untangle Your Asynchronous JavaScript Code by Sergi Mansilla.2018.pdf\nSams - JavaScript in 24 Hours, Sams Teach Yourself, 6th Edition.2015.pdf\nSitePoint - Full Stack JavaScript Development with MEAN, MongoDB Express AngularJS and Node.js.pdf\nsearching  <DirEntry 'Node'>\nAddison Wesley - Learning Node.js A Hands-on Guide to Building, 2013.pdf\nApress - Beginning Node.js, 2014.pdf\nLean - The Node Beginner Book, A Comprehensive Node.js Tutorial, 2013.pdf\nO’Reilly - Node.js for Embedded Systems.pdf\nPackt - Node.js Design Patterns, 2nd Edition, 2016.pdf\nPackt - Node.js Design Patterns_ Master best practices to build modular and scalable server-side web applications.pdf\n"
     ]
    }
   ],
   "source": [
    "import os\n",
    "def dirWalk(cdir):\n",
    "    print(\"searching \", cdir)\n",
    "    dirs = []\n",
    "    with os.scandir(cdir) as it:\n",
    "        for entry in it:\n",
    "            if not entry.name.startswith('.') and entry.is_file():\n",
    "                print(entry.name)\n",
    "            elif entry.is_dir():\n",
    "                dirs.append(entry)\n",
    "    while dirs != []:\n",
    "        dirWalk(dirs.pop())\n",
    "    return\n",
    "dirWalk('C:\\\\Users\\\\007311\\\\Documents\\\\books')                    \n",
    "\n",
    "                \n"
   ]
  },
  {
   "cell_type": "code",
   "execution_count": null,
   "metadata": {},
   "outputs": [],
   "source": [
    "dirs=[]\n",
    "dirs.append('a')\n",
    "dirs.append('b')\n",
    "while dirs "
   ]
  }
 ]
}