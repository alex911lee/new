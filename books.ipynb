{
 "metadata": {
  "language_info": {
   "codemirror_mode": {
    "name": "ipython",
    "version": 3
   },
   "file_extension": ".py",
   "mimetype": "text/x-python",
   "name": "python",
   "nbconvert_exporter": "python",
   "pygments_lexer": "ipython3",
   "version": "3.9.0-final"
  },
  "orig_nbformat": 2,
  "kernelspec": {
   "name": "python39064bitdcc70b4587bf4d789a12b2681d2c1317",
   "display_name": "Python 3.9.0 64-bit"
  }
 },
 "nbformat": 4,
 "nbformat_minor": 2,
 "cells": [
  {
   "cell_type": "code",
<<<<<<< HEAD
   "execution_count": 56,
   "metadata": {
    "tags": []
   },
=======
   "execution_count": 2,
   "metadata": {},
>>>>>>> 7b2537994522ec13f222d49ef388ca1475809f58
   "outputs": [
    {
     "output_type": "stream",
     "name": "stdout",
     "text": [
<<<<<<< HEAD
      "searching  C:\\Users\\jimmy\\books C:\\Users\\jimmy\\books\nnooo good C:\\Users\\jimmy\\books\\.index\nsearching  <DirEntry 'Python'> C:\\Users\\jimmy\\books\\Python\nggoooood C:\\Users\\jimmy\\books\\Python\\.index\nsearching  <DirEntry 'new'> C:\\Users\\jimmy\\books\\Python\\new\nnooo good C:\\Users\\jimmy\\books\\Python\\new\\.index\n{'count': 0, 'release': 1, 'early': 1, 'ipython': 3, 'numpy': 4, 'pandas': 9, 'wrangling': 4, 'data': 10, 'analysis': 6, 'python': 7, 'reilly': 2, 'publishing': 1, 'anthony': 1, 'mastering': 2, 'kumar': 1, 'ashish': 1, 'mckinney': 1, 'using': 3, 'visualization': 2, 'collection': 1, 'perform': 1, 'effciently': 1, 'hands': 1, 'series': 1, 'time': 1, 'computing': 1, 'scientific': 1, 'recipes': 1, 'cookbook': 1, 'humber': 1, 'max': 1, 'recurrent': 1, 'requests': 1, 'finance': 1, 'personal': 1, 'nelli': 1, 'fabio': 1, 'matplotlib': 1, 'analytics': 1}\n{'count': 0, 'way': 1, 'hard': 1, 'python': 65, 'more': 1, 'learn': 3, 'programming': 14, 'starting': 1, 'jun': 2, 'example': 2, 'library': 3, 'standard': 2, 'edition': 8, 'professional': 2, 'novice': 2, 'beginning': 4, 'hetland': 1, 'scripts': 1, 'transformation': 1, 'visual': 1, 'crafting': 1, 'visualization': 2, 'coding': 2, 'elegant': 1, 'clean': 1, 'mongodb': 1, 'fundamentals': 2, 'science': 3, 'data': 3, 'development': 1, 'agile': 1, 'foundations': 2, 'dec': 1, 'network': 3, 'models': 1, 'learning': 9, 'deep': 1, 'machine': 4, 'based': 1, 'build': 1, 'pyspark': 1, 'guide': 1, 'implementation': 1, 'practical': 2, 'steps': 1, 'six': 1, 'mastering': 2, 'johansson': 1, 'robert': 1, 'numerical': 1, 'beginners': 1, 'absolute': 1, 'nov': 1, 'algorithms': 3, 'analysis': 1, 'big': 1, 'book': 2, 'idioms': 1, 'patterns': 3, 'eckel': 1, 'bruce': 1, 'design': 5, 'software': 4, 'press': 1, 'university': 1, 'cambridge': 1, 'tea': 1, 'green': 1, 'version': 2, 'introduction': 1, 'think': 3, 'downey': 2, 'engineers': 1, 'reverse': 1, 'hackers': 1, 'hat': 1, 'gray': 1, 'dewey': 1, 'jeffrey': 1, 'elkner': 1, 'allen': 1, 'scientist': 2, 'computer': 3, 'how': 2, 'stephens': 1, 'rod': 1, 'using': 2, 'approach': 1, 'essential': 3, 'analytic': 1, 'predictive': 1, 'techniques': 1, 'spark': 1, 'use': 1, 'making': 1, 'platform': 2, 'mobile': 4, 'applications': 2, 'prototyping': 2, 'rapid': 2, 'dummies': 2, 'one': 1, 'all': 1, 'meap': 1, 'exercises': 1, 'workout': 1, 'jan': 2, 'quick': 1, 'advanced': 1, 'reilly': 7, 'oriented': 2, 'object': 2, 'powerful': 1, 'lutz': 1, 'ascher': 1, 'cookbook': 1, 'nutshell': 1, 'intelligence': 1, 'collective': 1, 'reference': 3, 'pocket': 1, 'oct': 1, 'essentials': 1, 'twisted': 1, 'engine': 2, 'app': 2, 'google': 2, 'projects': 1, 'your': 1, 'distributing': 1, 'designing': 1, 'practices': 1, 'best': 1, 'expert': 1, 'anthology': 1, 'core': 1, 'thinking': 1, 'grayson': 1, 'tkinter': 2, 'matlab': 1, 'phrasebook': 1, 'sams': 1, 'scientific': 1, 'primer': 1, 'computational': 1, 'scripting': 1, 'gui': 1}\nsearching  <DirEntry 'pattern'> C:\\Users\\jimmy\\books\\pattern\nnooo good C:\\Users\\jimmy\\books\\pattern\\.index\n{'count': 0, 'martin': 5, 'robert': 3, 'craftsman': 1, 'architecture': 5, 'clean': 6, 'software': 6, 'agile': 1, 'handbook': 1, 'code': 4, 'albin': 1, 'stephen': 1, 'techniques': 1, 'methods': 1, 'design': 7, 'art': 1, 'development': 2, 'programming': 1, 'computer': 1, 'methodologies': 1, 'frameworks': 1, 'computing': 2, 'data': 2, 'big': 1, 'science': 1, 'woolf': 1, 'hohpe': 1, 'patterns': 8, 'integration': 1, 'enterprise': 1, 'aws': 1, 'cloud': 3, 'implementing': 1, 'programmers': 1, 'professional': 1, 'conduct': 1, 'coder': 2, 'gousios': 1, 'georgios': 1, 'spinellis': 1, 'diomidis': 1, 'beauty': 1, 'hidden': 1, 'reveal': 1, 'thinkers': 1, 'leading': 1, 'beautiful': 1, 'reilly': 1, 'first': 1, 'head': 1, 'implementation': 1, 'architectural': 1, 'practical': 1, 'front': 1, 'enough': 1, 'just': 1, 'sketching': 1, 'architectures': 1, 'collaboration': 1, 'coaching': 1, 'coding': 2, 'leadership': 1, 'technical': 1, 'developers': 1, 'dooley': 1, 'refactoring': 1, 'testing': 1, 'unit': 1, 'debugging': 1, 'applications': 1, 'manage': 1, 'build': 1, 'fundamentals': 1, 'collection': 1, 'volume': 1, 'system': 1, 'oriented': 1, 'pattern': 1}\nsearching  <DirEntry 'math'> C:\\Users\\jimmy\\books\\math\nnooo good C:\\Users\\jimmy\\books\\math\\.index\n{'count': 0, 'engineers': 1, 'scientists': 1, 'physics': 1, 'math': 1, 'fundamental': 1, 'blitzer': 1, 'robert': 1, 'mathematically': 1, 'thinking': 1, 'mathematics': 1, 'encyclopedia': 1, 'research': 1, 'wolfram': 1}\nsearching  <DirEntry 'js'> C:\\Users\\jimmy\\books\\js\nnooo good C:\\Users\\jimmy\\books\\js\\.index\nsearching  <DirEntry 'Vue.js'> C:\\Users\\jimmy\\books\\js\\Vue.js\nnooo good C:\\Users\\jimmy\\books\\js\\Vue.js\\.index\n{'count': 0, 'express': 1, 'node': 2, 'vue': 15, 'mongodb': 1, 'stack': 2, 'web': 7, 'modern': 2, 'apps': 2, 'powerful': 1, 'scalable': 1, 'build': 4, 'development': 2, 'full': 1, 'nelson': 1, 'brett': 1, 'scratch': 1, 'applications': 3, 'page': 1, 'single': 1, 'learn': 3, 'know': 1, 'getting': 1, 'easily': 1, 'reactive': 1, 'complex': 1, 'amazing': 1, 'how': 1, 'learning': 1, 'cookbook': 2, 'json': 1, 'javascript': 1, 'rischpater': 1, 'ray': 1, 'eng': 1, 'com': 1, 'leanpub': 1, 'you': 1, 'maniatis': 1, 'kyriakidis': 1, 'majesty': 1, 'building': 1, 'projects': 1, 'action': 3, 'meap': 1, 'running': 1, 'interactive': 1}\nsearching  <DirEntry 'TypeScript'> C:\\Users\\jimmy\\books\\js\\TypeScript\nnooo good C:\\Users\\jimmy\\books\\js\\TypeScript\\.index\n{'count': 0, 'jansen': 2, 'development': 4, 'javascript': 4, 'modern': 2, 'typescript': 9, 'mastering': 1, 'fenton': 1, 'steve': 1, 'scale': 1, 'application': 1, 'pro': 1, 'remo': 1, 'blueprints': 1, 'patterns': 3, 'design': 3, 'learning': 1, 'efficiency': 1, 'your': 1, 'boost': 1, 'essentials': 1}\nsearching  <DirEntry 'Node.js'> C:\\Users\\jimmy\\books\\js\\Node.js\nnooo good C:\\Users\\jimmy\\books\\js\\Node.js\\.index\nsearching  <DirEntry 'Express'> C:\\Users\\jimmy\\books\\js\\Node.js\\Express\nnooo good C:\\Users\\jimmy\\books\\js\\Node.js\\Express\\.index\n{'count': 0, 'reference': 1, 'api': 1, 'deep': 1, 'express': 6, 'pro': 1, 'pug': 1, 'node': 3, 'applications': 1, 'web': 3, 'programming': 1, 'stack': 1, 'javascript': 1, 'leveraging': 1, 'development': 2, 'reilly': 1, 'blueprints': 1, 'application': 1, 'mastering': 1}\n{'count': 0, 'node': 37, 'beginning': 1, 'approach': 1, 'solution': 1, 'problem': 1, 'recipes': 1, 'apps': 1, 'web': 7, 'scalable': 3, 'world': 1, 'real': 1, 'building': 7, 'practical': 1, 'developers': 1, 'pro': 2, 'development': 4, 'api': 3, 'rest': 2, 'programming': 2, 'reactive': 1, 'javascript': 4, 'applications': 4, 'adonisjs': 1, 'guide': 2, 'definitive': 1, 'apis': 1, 'basics': 1, 'essential': 1, 'collection': 1, 'fundamentals': 1, 'software': 1, 'based': 1, 'professional': 1, 'raspberry': 1, 'build': 3, 'jumpstarting': 1, 'tutorial': 1, 'comprehensive': 1, 'book': 1, 'beginner': 1, 'publishing': 1, 'lean': 1, 'testing': 1, 'writing': 1, 'action': 2, 'express': 1, 'get': 1, 'practice': 1, 'serverless': 1, 'azure': 1, 'windows': 1, 'application': 3, 'first': 1, 'your': 2, 'create': 1, 'nodejs': 3, 'microsoft': 1, 'side': 2, 'server': 2, 'moving': 1, 'learning': 2, 'reilly': 2, 'systems': 1, 'embedded': 1, 'bhintade': 1, 'madan': 1, 'freitas': 1, 'eduardo': 1, 'bots': 1, 'deploying': 1, 'microservices': 1, 'developing': 1, 'mastering': 1, 'patterns': 3, 'design': 4, 'edition': 2, 'modular': 1, 'practices': 1, 'best': 1, 'master': 1, 'performance': 1, 'high': 1, 'cookbook': 1, 'restful': 1, 'mongodb': 2, 'using': 1, 'scratch': 1, 'featured': 1, 'full': 1, 'interactive': 1, 'hands': 1, 'pragmatic': 2, 'secure': 1, 'programmers': 1, 'way': 1, 'right': 1, 'wilson': 1}\nsearching  <DirEntry 'MongoDB'> C:\\Users\\jimmy\\books\\js\\MongoDB\nnooo good C:\\Users\\jimmy\\books\\js\\MongoDB\\.index\n{'count': 0, 'developers': 1, 'mongodb': 6, 'tricks': 1, 'tips': 1, 'computing': 2, 'desktop': 2, 'cloud': 2, 'database': 2, 'nosql': 2, 'guide': 3, 'definitive': 3, 'patterns': 1, 'design': 1, 'applied': 1, 'edition': 1, 'cookbook': 1, 'reilly': 1}\nsearching  <DirEntry 'Meteor'> C:\\Users\\jimmy\\books\\js\\Meteor\nnooo good C:\\Users\\jimmy\\books\\js\\Meteor\\.index\n{'count': 0, 'apps': 2, 'web': 2, 'javascript': 3, 'time': 1, 'real': 1, 'building': 2, 'meteor': 6, 'discover': 1, 'action': 1, 'page': 1, 'single': 1, 'edition': 1, 'framework': 2, 'started': 2, 'getting': 2, 'cookbook': 1}\nsearching  <DirEntry 'JScript Stack'> C:\\Users\\jimmy\\books\\js\\JScript Stack\nnooo good C:\\Users\\jimmy\\books\\js\\JScript Stack\\.index\n{'count': 0, 'mongodb': 5, 'node': 7, 'backbone': 4, 'learn': 1, 'javascript': 3, 'stack': 6, 'full': 4, 'net': 1, 'asp': 1, 'using': 1, 'development': 6, 'application': 1, 'page': 2, 'single': 2, 'pro': 2, 'react': 1, 'express': 3, 'mongo': 2, 'app': 1, 'web': 6, 'mern': 1, 'angular': 2, 'mean': 2, 'getting': 1, 'applications': 1, 'building': 2, 'reilly': 1, 'running': 1, 'meteor': 1, 'apps': 2, 'modern': 1, 'powerful': 1, 'scalable': 1, 'build': 1, 'vue': 1, 'nodejs': 1, 'learning': 1, 'start': 1, 'agile': 1, 'prototyping': 1, 'rapid': 1, 'angularjs': 1, 'point': 1, 'site': 1}\nsearching  <DirEntry 'JavaScript'> C:\\Users\\jimmy\\books\\js\\JavaScript\nnooo good C:\\Users\\jimmy\\books\\js\\JavaScript\\.index\n{'count': 0, 'development': 6, 'javascript': 45, 'driven': 1, 'test': 1, 'ecmascript': 2, 'using': 4, 'programming': 4, 'functional': 2, 'beginning': 3, 'professional': 1, 'novice': 1, 'ajax': 1, 'scripting': 1, 'dom': 1, 'modern': 6, 'guide': 4, 'ultimate': 1, 'standard': 1, 'latest': 1, 'humans': 1, 'typescript': 13, 'expressions': 1, 'regular': 1, 'introducing': 1, 'fundamentals': 1, 'algorithm': 1, 'structure': 1, 'data': 3, 'core': 1, 'implementing': 1, 'understanding': 2, 'introduction': 1, 'algorithms': 1, 'structures': 1, 'groovy': 1, 'scala': 1, 'java': 1, 'easy': 1, 'made': 1, 'scale': 1, 'application': 1, 'pro': 1, 'jquery': 3, 'html': 4, 'learns': 1, 'engineer': 1, 'software': 1, 'cameron': 1, 'dane': 1, 'edition': 2, 'bible': 2, 'minds': 2, 'hungry': 2, 'examples': 1, 'css': 2, 'con': 1, 'hoepli': 1, 'ita': 1, 'meap': 1, 'ninja': 2, 'secrets': 2, 'frameworks': 1, 'leading': 1, 'applications': 2, 'web': 4, 'strength': 1, 'industrial': 1, 'ready': 1, 'enterprise': 1, 'build': 1, 'mastering': 4, 'demystified': 1, 'visualization': 1, 'starch': 3, 'oriented': 2, 'object': 2, 'principles': 1, 'developers': 2, 'definitive': 2, 'performance': 2, 'high': 2, 'reilly': 6, 'cookbook': 4, 'patterns': 4, 'design': 4, 'learning': 2, 'release': 1, 'early': 1, 'security': 1, 'grammar': 1, 'types': 1, 'know': 1, 'don': 1, 'you': 1, 'dive': 1, 'practical': 1, 'projects': 1, 'advanced': 1, 'meteor': 1, 'apps': 1, 'page': 1, 'single': 1, 'building': 2, 'concurrency': 1, 'json': 1, 'learn': 1, 'jan': 1, 'moodle': 1, 'blueprints': 1, 'efficiency': 1, 'your': 2, 'boost': 1, 'essentials': 1, 'beginner': 1, 'absolute': 1, 'yourself': 1, 'teach': 1, 'sams': 1, 'hours': 1, 'mansilla': 1, 'sergi': 1, 'code': 1, 'asynchronous': 1, 'untangle': 1, 'rxjs': 1, 'reactive': 1, 'morgan': 1, 'joe': 1, 'writing': 1, 'simplifying': 1, 'sitepoint': 1, 'hacks': 1, 'tricks': 1, 'tips': 1, 'essential': 1, 'anthology': 1, 'site': 1, 'trainer': 1, 'hour': 1}\nsearching  <DirEntry 'HTML, CSS, JSON'> C:\\Users\\jimmy\\books\\js\\HTML, CSS, JSON\nnooo good C:\\Users\\jimmy\\books\\js\\HTML, CSS, JSON\\.index\n{'count': 0, 'publishing': 1, 'cookbook': 1, 'json': 1, 'javascript': 3, 'reilly': 1, 'release': 1, 'early': 1, 'css': 1, 'html': 2, 'using': 1, 'developers': 1, 'web': 1, 'security': 1, 'trainer': 1, 'hour': 1, 'jquery': 1}\nsearching  <DirEntry 'Backbone.js'> C:\\Users\\jimmy\\books\\js\\Backbone.js\nnooo good C:\\Users\\jimmy\\books\\js\\Backbone.js\\.index\n{'count': 0, 'backbone': 10, 'beginning': 4, 'dec': 1, 'sugrue': 2, 'james': 2, 'sulc': 1, 'david': 1, 'progression': 1, 'serious': 1, 'marionette': 1, 'may': 1, 'burgess': 1, 'andrew': 1, 'blueprints': 1, 'edition': 1, 'early': 1, 'applications': 2, 'developing': 2, 'june': 1, 'mulder': 1, 'patrick': 1, 'development': 1, 'web': 1, 'stack': 1, 'full': 1, 'osmani': 1, 'addy': 1, 'reilly': 1, 'aug': 1, 'cookbook': 1}\n{'count': 0, 'patterns': 1, 'design': 1, 'jquery': 1, 'davis': 1, 'javascript': 2, 'groovy': 1, 'scala': 1, 'java': 1, 'using': 1, 'easy': 1, 'made': 1, 'programming': 2, 'modern': 2, 'mansilla': 1, 'sergi': 1, 'code': 1, 'asynchronous': 1, 'your': 1, 'untangle': 1, 'rxjs': 1, 'reactive': 1, 'edition': 1, 'movement': 1, 'nosql': 1, 'databases': 2, 'guide': 1, 'weeks': 1, 'seven': 2}\nsearching  <DirEntry 'English'> C:\\Users\\jimmy\\books\\English\nnooo good C:\\Users\\jimmy\\books\\English\\.index\n{'count': 0, 'edition': 2, 'toeic': 2, 'words': 1, 'essential': 1, 'barron': 1, 'vocabulary': 1, 'business': 1, 'cobuild': 1, 'collins': 1, 'rar': 1, 'fourth': 1, 'tests': 1, 'practice': 1, 'more': 1, 'test': 1, 'new': 1, 'series': 1, 'preparation': 1, 'longman': 1}\nsearching  <DirEntry 'cloud'> C:\\Users\\jimmy\\books\\cloud\nnooo good C:\\Users\\jimmy\\books\\cloud\\.index\n{'count': 0, 'distilled': 1, 'code': 1, 'studio': 1, 'visual': 1, 'docker': 1, 'learning': 1, 'patterson': 1, 'scott': 1, 'computing': 1, 'serverless': 1, 'aws': 1, 'learn': 1}\nsearching  <DirEntry 'architecture'> C:\\Users\\jimmy\\books\\architecture\nnooo good C:\\Users\\jimmy\\books\\architecture\\.index\n{'count': 0, 'art': 1, 'architecture': 1, 'design': 3, 'modern': 1, 'bridge': 1, 'steel': 1, 'guide': 1, 'student': 1, 'mgh': 1, 'pat': 1, 'guthrie': 1, 'building': 1, 'thumb': 1, 'rules': 1, 'step': 1, 'first': 1, 'handbook': 1, 'portable': 1, 'architect': 1, 'houses': 10, 'ten': 10, 'buildings': 1, 'dictionary': 1, 'visual': 1}\n{'count': 0, 'process': 1, 'thought': 1, 'oriented': 1, 'object': 1, 'action': 1, 'technology': 1, 'theory': 1, 'projects': 1, 'radio': 2, 'communications': 1, 'beginning': 1, 'synthesis': 1, 'polymer': 1, 'handbook': 1, 'chemistry': 2, 'popper': 2, 'karl': 1, 'refutations': 1, 'conjectures': 1, 'dictionary': 1, 'things': 1, 'finding': 1, 'pleasure': 1, 'feynman': 2, 'code': 1, 'learn': 1, 'first': 1, 'head': 1, 'cybersecurity': 1, 'essentials': 1, 'linux': 1, 'discovery': 1, 'scientific': 1, 'logic': 1, 'investigation': 1, 'challenger': 1, 'think': 1, 'people': 1, 'other': 1, 'what': 2, 'care': 1, 'you': 1, 'richard': 1, 'language': 1, 'programming': 2, 'boteler': 1, 'alison': 1, 'extraordinary': 1, 'ordinary': 1, 'recipes': 1, 'simple': 1, 'take': 1, 'wine': 2, 'use': 1, 'how': 1, 'cooking': 1, 'guide': 1, 'gourmet': 1, 'dummies': 1, 'functional': 1, 'rtf': 1, 'doc': 1}\n"
=======
      "searching  C:\\Users\\007311\\Documents\n0001211930076241_20200525090242_post.ods\n107年度「關稅與內地稅勾稽處理作業機制」會議決議辦理情形彙總表.odt\n107年度業務考核數據表.odt\n107年度通關業務績效報告.odt\n107申報.psn\n108年度「關稅與內地稅勾稽處理作業機制」會議提案表.odt\n108年度「關稅與內地稅勾稽處理作業機制」會議臨.odt\n108年度內部控制自行評估計畫.odt\n108年度關務機關業務考核評分表(草案).odt\n108申報.psn\n1090623請協助填寫內容 --南科.odt\n10908物料憑領清冊.docx\n1091125_東喜璐案情_更2.odt\n109年第1季法令宣導與案例分享講習.odt\n109年第2次報關業運輸業進出口業貨棧業及貨櫃集散站業聯合座談會前會.pdf\n109申報.psn\n11001業務檢討報告.odt\n110年業務推動重點.odt\n2-課表_109保稅.odt\n2020公會宣導.odp\n4月查核(南科）.ods\n5月查核(南科）.ods\n7311 辦事能力評分16.2分以上具體.odt\n96條.pdf\nAbstractFactoryPattern-2.png\naccount.oxps\naccount0.oxps\nB91091002574.bmp\nB91091002574.pdf\nBDMRV32(南科).ods\nBDMRV32(南科)2.ods\ncalcu_test.ods\ncalendar.ods\ndesktop.ini\nDMRV32(南科)3.ods\nDMRV32(南科)4.ods\nhello.js\nhistoryData (4).txt\nkeyboard-shortcuts-windows.pdf\nMI_20200319.ods\nMI_20200619.ods\nMI_20200921.ods\npackage-lock.json\nQ&A.txt\nQA.txt\nserver.js\nson.jpg\nson.ods\nson.pdf\nsqr.ods\ntemp 1.odt\ntemp.txt\nTP03140116241348_RenewReceipt.txt\n「科學園區保稅業務管理辦法」部分條文修正草案修正意見彙整表0802.odt\n「科學園區保稅業務管理辦法」部分條文修正草案修正意見彙整表2.odt\n上市.ods\n上櫃.ods\n上櫃.ots\n不宜作為函令廢止理由.odt\n中央政府各機關單位預算分配注意事項.odt\n何為虚報貨名.odg\n何為虚報貨名.pdf\n保稅廠商調查表(業務一課).ods\n保稅廠商調查表(路科).ods\n保稅廠商調查表.ods\n保稅業務主要風險.odt\n保稅業務作業要點附表.odt\n保稅貨物內銷補稅原因.pdf\n個人資料檔案風險評鑑表--嘉南分關業務一課異動.ods\n個資清冊--嘉南分關業務一課異動.ods\n傑聖科技保稅品處理.odt\n內部意見.pdf\n公務車行駛里程不足.xlsx\n公文--政令宣導.pdf\n公法上返還請求權p.pdf\n公證行.odt\n刑法第216條偽變造發票移送刑事案件調查及移送流程.pdf\n列印配偶及未成年子女授權申請書.doc\n加強刑法第216條偽變造發票移送刑事案件事證取得及調查程序.odt\n南科保稅業務建議.odt\n台關稽字第1091025721號.pdf\n各機關與海關業務有關之聯繫窗口表.ods\n問卷調查.odt\n嘉南保稅簽.ifd\n嘉南保稅簽1.ifd\n嘉南保稅簽2-1.ifd\n嘉南保稅簽2.ifd\n嘉南保稅簽3.ifd\n嘉南分關_創新獎提案成效表.odt\n嘉南分關業務一課--物流中心.ods\n嘉南分關業務一課--貨棧.ods\n嘉南分關業務一課傳真電文109009小港.odt\n嘉南分關簽註p.odt\n嘉南分關考績表(業務一課)3股.odt\n嘉南分關風險管理.odp\n嘉南分關風險管理V2.odp\n嘉南分關風險管理V2.pdf\n嘉南分關風險管理V2.pptx\n嘉南分關風險管理V2S.odp\n國內出差交通費報支相關事項問答集.pdf\n國內出差旅費報支要點.pdf\n園區事業憑領用數除帳(彙整).ods\n園區事業憑領用數除帳.ods\n園區事業憑領用數除帳.xlsx\n園區公會.tif\n園區公會2020.tif\n報廢補稅情形調查表.ods\n實地查核.odt\n專案核准進口大陸地區物品.pdf\n對自主管理業者之稽核與管制.odt\n小港分關「進口合板查驗.pdf\n工國內出差旅費與訓練費撙節報支標準表.pdf\n康寧.ods\n康寧簽.odt\n廉政會報.odp\n廉政會報.pptx\n強化海關主管監督考核所屬廉政風紀責任實施規定修正規定.odt\n強化瓷磚商品品質推動計畫.docx\n強化瓷磚商品品質推動計畫之邊境取樣.docx\n強化貨棧監管.pdf\n持續性監控工具介紹.pdf\n收據2020.pdf\n易用於安非他命製毒工廠器具品項一覽表.docx\n東喜路5 (1).odt\n業務一課簽註.odt\n業務三股簽註.odt\n檢討簽.odt\n法令宣導與案例分享講習.odt\n法制作業建議表.odt\n流向說明.odt\n海關依關稅法第三十六條答復進口貨物完稅價格核定方法處理原則.odt\n海關審查民間機構辦理自主管理專責人員訓練及保稅業務人員講習作業要點修正規定.odt\n海關查緝詢問筆錄製作應注意事項.odt\n海關緝私條例第四十五條之三進行調查認定原則.odt\n海關緝私條例第四十五條之三進行調查認定原則說明.doc\n無題 1.ods\n無題 1.odt\n申報.psn\n申請公告監管前審查附表資料.odt\n異狀廠商列管處理要點修正對照表.odt\n異狀廠商列管處理要點修正規定.odt\n監管廠商1.ods\n盤虧補稅.ods\n研商修正「科學園區保稅業務管理辦法」會議紀錄2.odt\n研提改善.odt\n科學園區事業保稅原料及物料申請憑領用數除帳簡介.odt\n科學園區保稅業務管理辦法部分條文修正草案修正意見彙整表0802.doc\n科學園區保稅業務管理辦法部分條文修正草案修正意見彙整表2019.5.doc\n科學工業園區園區事業輸入供加工外銷之原物料與零組件及供重整後全數外銷之物品之輸入條件修正草案.docx\n科學工業園區園區事業輸入供加工外銷之原物料與零組件，及供重整後全數外銷之9.27.pdf\n科學工業園區園區事業輸入供加工外銷之原物料與零組件，及供重整後全數外銷之9.27會議紀錄.pdf\n移送刑事案件證據清單範本.odt\n稅捐稽徵機關調查程序應行注意事項.pdf\n稽核不符事項-BS337.odt\n稽核不符事項.odt\n稽核不符通知.ods\n稽核不符通知統計.ods\n簡報備忘.odt\n簽.pdf\n簽人事.odt\n簽註.odt\n簽註22.odt\n簽註意見.odt\n納稅辦法.pdf\n統計方式.pdf\n統計表.ods\n舉證.docx\n舉證.odt\n處分.ods\n詢問筆錄案例法規研析.odt\n試算.ods\n財政部公告排除適用電子簽章法之關務法規.odt\n財政部關務署及所屬各關關務人員陞任評分標準表.pdf\n財政部關務署簽稿會核單 - 複製.odt\n財政部關務署高雄關107年風險評估及處理表.odt\n財政部關務署高雄關110年風險評估及處理彙總表.odt\n財政部關務署高雄關詢問.odt\n貨名認定虛報.odt\n貨櫃集散站業聯合座談會前會.odt\n辦事能力評分16.2分以上具體1.odt\n辦理保稅品報廢監毀月報表.odt\n重要紀事.odt\n關務知識文件發表.pdf\n關務署高雄關員工狀況通.odt\n關務署高雄關員工狀況通2.odt\n關港貿單一窗口保稅智慧服務平臺.pptx\n關稅法第三十六條答復進口貨物完稅價格核定.odt\n關稅與內地稅勾稽處理作業機制.odt\n電子化意向統計表.ods\n預防經營管理欠佳及財務狀況具高風險之保稅業者無預警倒閉之情事unformat.odt\n頒獎.pdf\n風險分析.odt\n風險管理機制及推動辦理情形表.odt\n驗貨（驗估）、進口分估.odt\n高雄園區(路竹)監管廠商名冊.ods\n高雄關108年度廉政會報.odt\n高雄關110年內部控制專案小組第1次會議紀錄.odt\n高雄關110年風險評估及處理彙總表.odt\n高雄關保稅智慧服務平台第1期保稅簡易申辦及保稅管理系統教育訓練.odt\n高雄關保稅智慧服務平台第1期保稅簡易申辦系統廠商宣導(廠商).odt\n高雄關審核進口報單發現稅則號別歸列錯誤涉及漏稅案件作業要點-正式發函版.pdf\n高雄關審核進口報單發現稅則號別歸列錯誤涉及漏稅案件作業要點逐點說明-正式發函版.pdf\n高雄關接獲疑似廠商遭冒用名義通關情資處理程序.odt\n高雄關查緝危安物品現場管控作業規範.odt\nsearching  <DirEntry '簽'>\n台灣科學工業園區科學工業同業公會\n台灣科學工業園區科學工業同業公會.ifd\n政風室就關員李施.ifd\n政風室就關員李施2.ifd\n政風室就關員李施3.ifd\n政風室就關員李施4.ifd\n政風室就關員李施5.ifd\n政風室就關員李施6.ifd\n政風室就關員李施A1.ifd\n政風室就關員李施A2.ifd\n政風室就關員李施B1.ifd\n政風室就關員李施B2.ifd\nsearching  <DirEntry '工作手冊'>\nC-070-23, C-080-17, C-100-33預防經營管理欠佳及財務狀況具高風險之保稅業者無預警倒閉危機處理機制及標準作業流程.odt\nC-070-24, C-080-16, C-100-32 高雄關辦理監管保稅工廠破產事件作業流程表.pdf\nC-070-25, C-100-34保稅廠商結束保稅業務後保稅貨物處理作業程序.odt\nC-100-18保稅工廠倒閉或廢止後保稅貨物之善後處理.odt\nC-100-31保稅工廠突發性財務危機「預防機制與因應措施」.odt\n保稅廠商結束保稅業務後保稅貨物處理作業程序.odt\n附件︰保稅廠商結束保稅業務後保稅貨物處理作業流程圖表.pdf\n預防保稅廠無預警倒閉相關標準作業程序清單.odt\n預防經營管理欠佳及財務狀況具高風險之保稅業者無預警倒閉之情事old.odt\nsearching  <DirEntry '函稿'>\n盤存清冊准予備查--會計師簽證.ifd\n盤存清冊准予備查.ifd\n結算報告審核完竣(無盤盈虧).ifd\n結算報告審核完竣(盤盈虧)--會計師簽證.ifd\n結算報告審核完竣(盤盈虧).ifd\nsearching  <DirEntry '★👀內部控制'>\nsearching  <DirEntry '109內部控制'>\nsearching  <DirEntry '一課OA07--領用數除帳'>\n3.控制作業自行評估表.odt\n3.控制作業自行評估表V1.odt\n3.控制作業自行評估表V2.odt\n4.程序說明表及流程圖.odt\n4.程序說明表及流程圖V1.odt\n4.程序說明表及流程圖V2.1.odt\n4.程序說明表及流程圖V2.odt\n☆1.風險評估.odt\n☆2.風險評估及處理表.odt\n☆3.控制作業自行評估表V2.2.odt\n☆4.程序說明表及流程圖V2.2.odt\n內會各課.ifd\n內會各課2.ifd\n施行簽.ifd\n簽准_20210126.pdf\n簽報關務長.ifd\nsearching  <DirEntry '一課OA06--報廢補稅'>\n1.風險評估.odt\n2.風險評估及處理表.odt\n3.程序說明表及流程圖.odt\n4.控制作業自行評估表.odt\n內部簽.ifd\n各關單位簽有主旨B91091002375.IFD\n各關簽有主旨B91091002574.IFD\n報廢監毀.ifd\n報廢監毀2.ifd\n報廢監毀3.ifd\n報廢監毀4.ifd\n施行簽.ifd\n會核單_20201229_093412.pdf\n簽3.pdf\n簽_20201215.pdf\n辦理保稅品報廢監毀月報表.odt\n高雄關內部控制制度V14.pdf\n（X）2.作業層級自行評估表.odt\nsearching  <DirEntry '107內部控制'>\n107年度內部控制自行評估表(1061001-1070930).odt\n107年度內部控制自行評估計畫.odt\nOA05-107年度內部控制自行評估表(1061001-1070930).odt\n更正附件2-107年度內部控制自行評估計畫.odt\nsearching  <DirEntry '106內部控制'>\n106內部控制函.pdf\n財政部關務署高雄關內部控制制度V8.0.pdf\nsearching  <DirEntry '五課OA04'>\n1.風險評估.odt\n2.作業層級自行評估表.odt\n3.內部控制制度作業自行評估表.odt\n4.程序說明表及流程圖.odt\n5.風險評估及處理表.odt\nsearching  <DirEntry '三課OA05'>\nOA05內部控制簽.ifd\nOA05簽註.ifd\nOA05簽註.odt\n實地查核清表表格.doc\n財政部高雄關保稅廠商經營管理及財務狀況查核作業流程作業說明表.odt\n預防財務不良業者危機處理說明表.odt\n高雄關106年度內部控制自行評估計畫.odt\nsearching  <DirEntry '三課OA05'>\n1. OA05 風險評估.docx\n2. OA05作業流程圖.docx\n3. OA05部控制制度作業自行評估表.odt\n4. OA05作業流程作業說明表.odt\n4. OA05作業流程作業說明表及流程圖.odt\n5. OA05風險評估及處理表.odt\nOA05內部控制簽.ifd\nsearching  <DirEntry '公文'>\n1. OA05 風險評估.docx\n2. OA05風險評估處理表.odt\n3-1-1實地查核清表表格.doc\n3-1. OA05作業流程作業說明表.odt\n3-2. OA05作業流程圖.docx\n4. OA05部控制制度作業自行評估表.odt\nOA05內部控制簽 2.0.ifd\nsearching  <DirEntry 'Scanned Documents'>\ndesktop.ini\n歡迎使用掃描.jpg\nsearching  <DirEntry 'Documents'>\nsearching  <DirEntry 'RainbowFTPG'>\nFTPG.ini\nftptrace.log\nusers.xml\nsearching  <DirEntry 'PDFCreatorSpool'>\nsearching  <DirEntry 'node_modules'>\nsearching  <DirEntry 'vary'>\nHISTORY.md\nindex.js\nLICENSE\npackage.json\nREADME.md\nsearching  <DirEntry 'utils-merge'>\nindex.js\nLICENSE\npackage.json\nREADME.md\nsearching  <DirEntry 'unpipe'>\nHISTORY.md\nindex.js\nLICENSE\npackage.json\nREADME.md\nsearching  <DirEntry 'type-is'>\nHISTORY.md\nindex.js\nLICENSE\npackage.json\nREADME.md\nsearching  <DirEntry 'toidentifier'>\nindex.js\nLICENSE\npackage.json\nREADME.md\nsearching  <DirEntry 'statuses'>\ncodes.json\nHISTORY.md\nindex.js\nLICENSE\npackage.json\nREADME.md\nsearching  <DirEntry 'setprototypeof'>\nindex.d.ts\nindex.js\nLICENSE\npackage.json\nREADME.md\nsearching  <DirEntry 'test'>\nindex.js\nsearching  <DirEntry 'serve-static'>\nHISTORY.md\nindex.js\nLICENSE\npackage.json\nREADME.md\nsearching  <DirEntry 'send'>\nHISTORY.md\nindex.js\nLICENSE\npackage.json\nREADME.md\nsearching  <DirEntry 'node_modules'>\nsearching  <DirEntry 'ms'>\nindex.js\nlicense.md\npackage.json\nreadme.md\nsearching  <DirEntry 'safer-buffer'>\ndangerous.js\nLICENSE\npackage.json\nPorting-Buffer.md\nReadme.md\nsafer.js\ntests.js\nsearching  <DirEntry 'safe-buffer'>\nindex.d.ts\nindex.js\nLICENSE\npackage.json\nREADME.md\nsearching  <DirEntry 'raw-body'>\nHISTORY.md\nindex.d.ts\nindex.js\nLICENSE\npackage.json\nREADME.md\nsearching  <DirEntry 'range-parser'>\nHISTORY.md\nindex.js\nLICENSE\npackage.json\nREADME.md\nsearching  <DirEntry 'qs'>\nCHANGELOG.md\nLICENSE\npackage.json\nREADME.md\nsearching  <DirEntry 'test'>\nindex.js\nparse.js\nstringify.js\nutils.js\nsearching  <DirEntry 'lib'>\nformats.js\nindex.js\nparse.js\nstringify.js\nutils.js\nsearching  <DirEntry 'dist'>\nqs.js\nsearching  <DirEntry 'proxy-addr'>\nHISTORY.md\nindex.js\nLICENSE\npackage.json\nREADME.md\nsearching  <DirEntry 'path-to-regexp'>\nHistory.md\nindex.js\nLICENSE\npackage.json\nReadme.md\nsearching  <DirEntry 'parseurl'>\nHISTORY.md\nindex.js\nLICENSE\npackage.json\nREADME.md\nsearching  <DirEntry 'on-finished'>\nHISTORY.md\nindex.js\nLICENSE\npackage.json\nREADME.md\nsearching  <DirEntry 'negotiator'>\nHISTORY.md\nindex.js\nLICENSE\npackage.json\nREADME.md\nsearching  <DirEntry 'lib'>\ncharset.js\nencoding.js\nlanguage.js\nmediaType.js\nsearching  <DirEntry 'ms'>\nindex.js\nlicense.md\npackage.json\nreadme.md\nsearching  <DirEntry 'mime-types'>\nHISTORY.md\nindex.js\nLICENSE\npackage.json\nREADME.md\nsearching  <DirEntry 'mime-db'>\ndb.json\nHISTORY.md\nindex.js\nLICENSE\npackage.json\nREADME.md\nsearching  <DirEntry 'mime'>\nCHANGELOG.md\ncli.js\nLICENSE\nmime.js\npackage.json\nREADME.md\ntypes.json\nsearching  <DirEntry 'src'>\nbuild.js\ntest.js\nsearching  <DirEntry 'methods'>\nHISTORY.md\nindex.js\nLICENSE\npackage.json\nREADME.md\nsearching  <DirEntry 'merge-descriptors'>\nHISTORY.md\nindex.js\nLICENSE\npackage.json\nREADME.md\nsearching  <DirEntry 'media-typer'>\nHISTORY.md\nindex.js\nLICENSE\npackage.json\nREADME.md\nsearching  <DirEntry 'ipaddr.js'>\nipaddr.min.js\nLICENSE\npackage.json\nREADME.md\nsearching  <DirEntry 'lib'>\nipaddr.js\nipaddr.js.d.ts\nsearching  <DirEntry 'inherits'>\ninherits.js\ninherits_browser.js\nLICENSE\npackage.json\nREADME.md\nsearching  <DirEntry 'iconv-lite'>\nChangelog.md\nLICENSE\npackage.json\nREADME.md\nsearching  <DirEntry 'lib'>\nbom-handling.js\nextend-node.js\nindex.d.ts\nindex.js\nstreams.js\nsearching  <DirEntry 'encodings'>\ndbcs-codec.js\ndbcs-data.js\nindex.js\ninternal.js\nsbcs-codec.js\nsbcs-data-generated.js\nsbcs-data.js\nutf16.js\nutf7.js\nsearching  <DirEntry 'tables'>\nbig5-added.json\ncp936.json\ncp949.json\ncp950.json\neucjp.json\ngb18030-ranges.json\ngbk-added.json\nshiftjis.json\nsearching  <DirEntry 'http-errors'>\nHISTORY.md\nindex.js\nLICENSE\npackage.json\nREADME.md\nsearching  <DirEntry 'fresh'>\nHISTORY.md\nindex.js\nLICENSE\npackage.json\nREADME.md\nsearching  <DirEntry 'forwarded'>\nHISTORY.md\nindex.js\nLICENSE\npackage.json\nREADME.md\nsearching  <DirEntry 'finalhandler'>\nHISTORY.md\nindex.js\nLICENSE\npackage.json\nREADME.md\nsearching  <DirEntry 'express'>\nHistory.md\nindex.js\nLICENSE\npackage.json\nReadme.md\nsearching  <DirEntry 'lib'>\napplication.js\nexpress.js\nrequest.js\nresponse.js\nutils.js\nview.js\nsearching  <DirEntry 'router'>\nindex.js\nlayer.js\nroute.js\nsearching  <DirEntry 'middleware'>\ninit.js\nquery.js\nsearching  <DirEntry 'etag'>\nHISTORY.md\nindex.js\nLICENSE\npackage.json\nREADME.md\nsearching  <DirEntry 'escape-html'>\nindex.js\nLICENSE\npackage.json\nReadme.md\nsearching  <DirEntry 'encodeurl'>\nHISTORY.md\nindex.js\nLICENSE\npackage.json\nREADME.md\nsearching  <DirEntry 'ee-first'>\nindex.js\nLICENSE\npackage.json\nREADME.md\nsearching  <DirEntry 'destroy'>\nindex.js\nLICENSE\npackage.json\nREADME.md\nsearching  <DirEntry 'depd'>\nHistory.md\nindex.js\nLICENSE\npackage.json\nReadme.md\nsearching  <DirEntry 'lib'>\nsearching  <DirEntry 'compat'>\ncallsite-tostring.js\nevent-listener-count.js\nindex.js\nsearching  <DirEntry 'browser'>\nindex.js\nsearching  <DirEntry 'debug'>\nCHANGELOG.md\ncomponent.json\nkarma.conf.js\nLICENSE\nMakefile\nnode.js\npackage.json\nREADME.md\nsearching  <DirEntry 'src'>\nbrowser.js\ndebug.js\nindex.js\ninspector-log.js\nnode.js\nsearching  <DirEntry 'cookie-signature'>\nHistory.md\nindex.js\npackage.json\nReadme.md\nsearching  <DirEntry 'cookie'>\nHISTORY.md\nindex.js\nLICENSE\npackage.json\nREADME.md\nsearching  <DirEntry 'content-type'>\nHISTORY.md\nindex.js\nLICENSE\npackage.json\nREADME.md\nsearching  <DirEntry 'content-disposition'>\nHISTORY.md\nindex.js\nLICENSE\npackage.json\nREADME.md\nsearching  <DirEntry 'bytes'>\nHistory.md\nindex.js\nLICENSE\npackage.json\nReadme.md\nsearching  <DirEntry 'body-parser'>\nHISTORY.md\nindex.js\nLICENSE\npackage.json\nREADME.md\nsearching  <DirEntry 'lib'>\nread.js\nsearching  <DirEntry 'types'>\njson.js\nraw.js\ntext.js\nurlencoded.js\nsearching  <DirEntry 'array-flatten'>\narray-flatten.js\nLICENSE\npackage.json\nREADME.md\nsearching  <DirEntry 'accepts'>\nHISTORY.md\nindex.js\nLICENSE\npackage.json\nREADME.md\nsearching  <DirEntry '.bin'>\nmime\nmime.cmd\nmime.ps1\nsearching  <DirEntry 'My Videos'>\n"
     ]
    },
    {
     "output_type": "error",
     "ename": "PermissionError",
     "evalue": "[WinError 5] 存取被拒。: 'C:\\\\Users\\\\007311\\\\Documents\\\\My Videos'",
     "traceback": [
      "\u001b[1;31m---------------------------------------------------------------------------\u001b[0m",
      "\u001b[1;31mPermissionError\u001b[0m                           Traceback (most recent call last)",
      "\u001b[1;32m<ipython-input-2-02e346f4f62a>\u001b[0m in \u001b[0;36m<module>\u001b[1;34m\u001b[0m\n\u001b[0;32m     12\u001b[0m         \u001b[0mdirWalk\u001b[0m\u001b[1;33m(\u001b[0m\u001b[0mdirs\u001b[0m\u001b[1;33m.\u001b[0m\u001b[0mpop\u001b[0m\u001b[1;33m(\u001b[0m\u001b[1;33m)\u001b[0m\u001b[1;33m)\u001b[0m\u001b[1;33m\u001b[0m\u001b[1;33m\u001b[0m\u001b[0m\n\u001b[0;32m     13\u001b[0m     \u001b[1;32mreturn\u001b[0m\u001b[1;33m\u001b[0m\u001b[1;33m\u001b[0m\u001b[0m\n\u001b[1;32m---> 14\u001b[1;33m \u001b[0mdirWalk\u001b[0m\u001b[1;33m(\u001b[0m\u001b[1;34m'C:\\\\Users\\\\007311\\\\Documents'\u001b[0m\u001b[1;33m)\u001b[0m\u001b[1;33m\u001b[0m\u001b[1;33m\u001b[0m\u001b[0m\n\u001b[0m\u001b[0;32m     15\u001b[0m \u001b[1;33m\u001b[0m\u001b[0m\n\u001b[0;32m     16\u001b[0m \u001b[1;33m\u001b[0m\u001b[0m\n",
      "\u001b[1;32m<ipython-input-2-02e346f4f62a>\u001b[0m in \u001b[0;36mdirWalk\u001b[1;34m(cdir)\u001b[0m\n\u001b[0;32m     10\u001b[0m                 \u001b[0mdirs\u001b[0m\u001b[1;33m.\u001b[0m\u001b[0mappend\u001b[0m\u001b[1;33m(\u001b[0m\u001b[0mentry\u001b[0m\u001b[1;33m)\u001b[0m\u001b[1;33m\u001b[0m\u001b[1;33m\u001b[0m\u001b[0m\n\u001b[0;32m     11\u001b[0m     \u001b[1;32mwhile\u001b[0m \u001b[0mdirs\u001b[0m \u001b[1;33m!=\u001b[0m \u001b[1;33m[\u001b[0m\u001b[1;33m]\u001b[0m\u001b[1;33m:\u001b[0m\u001b[1;33m\u001b[0m\u001b[1;33m\u001b[0m\u001b[0m\n\u001b[1;32m---> 12\u001b[1;33m         \u001b[0mdirWalk\u001b[0m\u001b[1;33m(\u001b[0m\u001b[0mdirs\u001b[0m\u001b[1;33m.\u001b[0m\u001b[0mpop\u001b[0m\u001b[1;33m(\u001b[0m\u001b[1;33m)\u001b[0m\u001b[1;33m)\u001b[0m\u001b[1;33m\u001b[0m\u001b[1;33m\u001b[0m\u001b[0m\n\u001b[0m\u001b[0;32m     13\u001b[0m     \u001b[1;32mreturn\u001b[0m\u001b[1;33m\u001b[0m\u001b[1;33m\u001b[0m\u001b[0m\n\u001b[0;32m     14\u001b[0m \u001b[0mdirWalk\u001b[0m\u001b[1;33m(\u001b[0m\u001b[1;34m'C:\\\\Users\\\\007311\\\\Documents'\u001b[0m\u001b[1;33m)\u001b[0m\u001b[1;33m\u001b[0m\u001b[1;33m\u001b[0m\u001b[0m\n",
      "\u001b[1;32m<ipython-input-2-02e346f4f62a>\u001b[0m in \u001b[0;36mdirWalk\u001b[1;34m(cdir)\u001b[0m\n\u001b[0;32m      3\u001b[0m     \u001b[0mprint\u001b[0m\u001b[1;33m(\u001b[0m\u001b[1;34m\"searching \"\u001b[0m\u001b[1;33m,\u001b[0m \u001b[0mcdir\u001b[0m\u001b[1;33m)\u001b[0m\u001b[1;33m\u001b[0m\u001b[1;33m\u001b[0m\u001b[0m\n\u001b[0;32m      4\u001b[0m     \u001b[0mdirs\u001b[0m \u001b[1;33m=\u001b[0m \u001b[1;33m[\u001b[0m\u001b[1;33m]\u001b[0m\u001b[1;33m\u001b[0m\u001b[1;33m\u001b[0m\u001b[0m\n\u001b[1;32m----> 5\u001b[1;33m     \u001b[1;32mwith\u001b[0m \u001b[0mos\u001b[0m\u001b[1;33m.\u001b[0m\u001b[0mscandir\u001b[0m\u001b[1;33m(\u001b[0m\u001b[0mcdir\u001b[0m\u001b[1;33m)\u001b[0m \u001b[1;32mas\u001b[0m \u001b[0mit\u001b[0m\u001b[1;33m:\u001b[0m\u001b[1;33m\u001b[0m\u001b[1;33m\u001b[0m\u001b[0m\n\u001b[0m\u001b[0;32m      6\u001b[0m         \u001b[1;32mfor\u001b[0m \u001b[0mentry\u001b[0m \u001b[1;32min\u001b[0m \u001b[0mit\u001b[0m\u001b[1;33m:\u001b[0m\u001b[1;33m\u001b[0m\u001b[1;33m\u001b[0m\u001b[0m\n\u001b[0;32m      7\u001b[0m             \u001b[1;32mif\u001b[0m \u001b[1;32mnot\u001b[0m \u001b[0mentry\u001b[0m\u001b[1;33m.\u001b[0m\u001b[0mname\u001b[0m\u001b[1;33m.\u001b[0m\u001b[0mstartswith\u001b[0m\u001b[1;33m(\u001b[0m\u001b[1;34m'.'\u001b[0m\u001b[1;33m)\u001b[0m \u001b[1;32mand\u001b[0m \u001b[0mentry\u001b[0m\u001b[1;33m.\u001b[0m\u001b[0mis_file\u001b[0m\u001b[1;33m(\u001b[0m\u001b[1;33m)\u001b[0m\u001b[1;33m:\u001b[0m\u001b[1;33m\u001b[0m\u001b[1;33m\u001b[0m\u001b[0m\n",
      "\u001b[1;31mPermissionError\u001b[0m: [WinError 5] 存取被拒。: 'C:\\\\Users\\\\007311\\\\Documents\\\\My Videos'"
>>>>>>> 7b2537994522ec13f222d49ef388ca1475809f58
     ]
    }
   ],
   "source": [
    "import os\n",
<<<<<<< HEAD
    "import re\n",
    "\n",
    "def exclude_word(word_list):\n",
    "    prepositions = [\n",
    "        'aboard', 'about', 'above', 'across', 'after', 'against', 'along', 'amid', 'among',\n",
    "        'around', 'before', 'behind', 'below', 'beneath', 'beside', 'between', 'beyond', 'but',                        'concerning', 'considering', 'despite', 'down', 'during', 'except', 'following', 'for',\n",
    "        'from', 'inside', 'into', 'like', 'minus', 'near', 'next', 'off', 'onto', 'opposite',\n",
    "        'out', 'outside', 'over', 'past', 'per', 'plus', 'regarding', 'round', 'save', 'since',\n",
    "        'than', 'through', 'till', 'toward', 'under', 'underneath', 'unlike', 'until', 'upon',\n",
    "        'versus', 'via', 'with', 'within', 'without', 'the', 'and', 'docx', 'pdf',\n",
    "        ]\n",
    "    publishers = [\n",
    "        'apress', 'packt', 'oreilly', 'addison', 'wesley', 'john', 'wiley', 'manning', 'mcgraw',\n",
    "        'hill', 'prentice', 'hall', 'pearson',  'springer',\n",
    "        ]\n",
    "\n",
    "    [word_list.remove(wd) for pb in publishers for wd in word_list if wd == pb]\n",
    "    [word_list.remove(wd) for pp in prepositions for wd in word_list if wd == pp]\n",
    "    #for wd in word_list:\n",
    "    #     for pp in prepositions:\n",
    "    #         if wd == pp:\n",
    "    #             word_list.remove(wd)\n",
    "\n",
    "    #for wl in word_list:             \n",
    "    #    for pb in publishers:\n",
    "    #        if wl == pb:\n",
    "    #            word_list.remove(wl)\n",
    "\n",
    "    return word_list\n",
    "\n",
    "#def index_words(words)\n",
    "#    if os.\n",
    "def parse_name(file_name):\n",
    "    string = file_name.lower()\n",
    "    pattern = '[a-zA-Z]{3,20}'\n",
    "    result = re.findall(pattern, string)\n",
    "    wordlst = exclude_word(result)\n",
    "    #print(wordlst)\n",
    "    return wordlst\n",
    "\n",
    "def dir_walk(current_dir):\n",
    "    print(\"searching \", current_dir, os.path.abspath(current_dir))\n",
=======
    "\n",
    "def parseName(fname):\n",
    "    words=[]\n",
    "    \n",
    "def dirWalk(cdir):\n",
    "    print(\"searching \", cdir)\n",
>>>>>>> 7b2537994522ec13f222d49ef388ca1475809f58
    "    dirs = []\n",
    "    index={'count': 0}\n",
    "    index_file=os.path.join(os.path.abspath(current_dir), '.index')\n",
    "    if os.path.isfile(index_file):\n",
    "        print('ggoooood',index_file)\n",
    "    else:\n",
    "        print('nooo good',index_file)\n",
    "    with os.scandir(current_dir) as it:\n",
    "        for entry in it:\n",
    "            if not entry.name.startswith('.') and entry.is_file() and not entry.name.endswith('ini'):\n",
    "                words = parse_name(entry.name)\n",
    "                #if words: print(words)\n",
    "                while words:\n",
    "                    word = words.pop()\n",
    "                    if index.get(word):\n",
    "                        index[word] = index[word] + 1\n",
    "                    else:\n",
    "                        index[word] = 1 \n",
    "            elif entry.is_dir():\n",
    "                dirs.append(entry)\n",
<<<<<<< HEAD
    "       # index\n",
    "    while dirs:\n",
    "        dir_walk(dirs.pop())\n",
    "    print(index)\n",
    "    return None\n",
    "\n",
    "dir_walk('C:\\\\Users\\\\jimmy\\\\books')                    \n",
    "\n",
    "                \n"
   ]
  },
  {
   "cell_type": "code",
   "execution_count": 52,
   "metadata": {},
   "outputs": [
    {
     "output_type": "stream",
     "name": "stdout",
     "text": [
      "['Packt', 'Hands', 'data', 'analysis', 'with', 'Pandas', 'Effciently', 'perform', 'data', 'collection', 'wrangling', 'analysis', 'visualization', 'using', 'Python']\n"
     ]
    },
    {
     "output_type": "execute_result",
     "data": {
      "text/plain": [
       "{'Python': 1,\n",
       " 'using': 1,\n",
       " 'visualization': 1,\n",
       " 'analysis': 2,\n",
       " 'wrangling': 1,\n",
       " 'collection': 1,\n",
       " 'data': 2,\n",
       " 'perform': 1,\n",
       " 'Effciently': 1,\n",
       " 'Pandas': 1,\n",
       " 'with': 1,\n",
       " 'Hands': 1,\n",
       " 'Packt': 1}"
      ]
     },
     "metadata": {},
     "execution_count": 52
    }
   ],
   "source": [
    "import re\n",
    "\n",
    "string = 'Packt - Hands-On data analysis with Pandas_ Effciently perform data collection, wrangling, analysis, and visualization using Python (2019).pdf'\n",
    "pattern = '[a-zA-Z]{4,20}'\n",
    "index = {}\n",
    "words = re.findall(pattern, string) \n",
    "print(words)\n",
    "while words:\n",
    "    word = words.pop()\n",
    "    if index.get(word):\n",
    "        index[word] = index[word] + 1\n",
    "    else:\n",
    "        index[word] = 1 \n",
    "index"
   ]
  },
  {
   "cell_type": "code",
   "execution_count": 62,
   "metadata": {},
   "outputs": [
    {
     "output_type": "execute_result",
     "data": {
      "text/plain": [
       "['.git', '.ipynb_checkpoints', 'books.ipynb', 'workspace.code-workspace']"
      ]
     },
     "metadata": {},
     "execution_count": 62
    }
   ],
   "source": [
    "import os\n",
    "lst=os.listdir('.')\n",
    "lst"
   ]
  },
  {
   "cell_type": "code",
   "execution_count": null,
   "metadata": {},
   "outputs": [],
   "source": []
  },
  {
   "cell_type": "code",
   "execution_count": null,
   "metadata": {},
   "outputs": [],
   "source": []
=======
    "    while dirs != []:\n",
    "        dirWalk(dirs.pop())\n",
    "    return\n",
    "\n",
    "dirWalk('C:\\\\Users\\\\007311\\\\Documents')               \n",
    "\n",
    "                \n"
   ]
>>>>>>> 7b2537994522ec13f222d49ef388ca1475809f58
  }
 ]
}