{
 "metadata": {
  "language_info": {
   "codemirror_mode": {
    "name": "ipython",
    "version": 3
   },
   "file_extension": ".py",
   "mimetype": "text/x-python",
   "name": "python",
   "nbconvert_exporter": "python",
   "pygments_lexer": "ipython3",
   "version": 3
  },
  "orig_nbformat": 2
 },
 "nbformat": 4,
 "nbformat_minor": 2,
 "cells": [
  {
   "cell_type": "code",
   "execution_count": null,
   "metadata": {},
   "outputs": [],
   "source": [
    "import os\n",
    "def dirWalk(cdir):\n",
    "    dirs = []\n",
    "    with os.scandir(cdir) as it:\n",
    "        for entry in it:\n",
    "            if not entry.name.startswith('.') and entry.is_file():\n",
    "                print(entry.name)\n",
    "            elif entry.is_dir():\n",
    "                dirs.append(entry)\n",
    "    while dirs != []:\n",
    "        dirWalk(dirs.pop())\n",
    "    return\n",
    "dirWalk('C:\\\\Users\\\\007311\\\\Documents\\\\books')                    \n",
    "\n",
    "                \n"
   ]
  },
  {
   "cell_type": "code",
   "execution_count": null,
   "metadata": {},
   "outputs": [],
   "source": [
    "dirs=[]\n",
    "dirs.append('a')\n",
    "dirs.append('b')\n",
    "while dirs "
   ]
  }
 ]
}