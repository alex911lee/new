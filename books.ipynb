{
 "metadata": {
  "language_info": {
   "codemirror_mode": {
    "name": "ipython",
    "version": 3
   },
   "file_extension": ".py",
   "mimetype": "text/x-python",
   "name": "python",
   "nbconvert_exporter": "python",
   "pygments_lexer": "ipython3",
   "version": "3.9.0-final"
  },
  "orig_nbformat": 2,
  "kernelspec": {
   "name": "python39064bitdcc70b4587bf4d789a12b2681d2c1317",
   "display_name": "Python 3.9.0 64-bit"
  }
 },
 "nbformat": 4,
 "nbformat_minor": 2,
 "cells": [
  {
   "cell_type": "code",
   "execution_count": 56,
   "metadata": {
    "tags": []
   },
   "outputs": [
    {
     "output_type": "stream",
     "name": "stdout",
     "text": [
      "searching  C:\\Users\\jimmy\\books C:\\Users\\jimmy\\books\nnooo good C:\\Users\\jimmy\\books\\.index\nsearching  <DirEntry 'Python'> C:\\Users\\jimmy\\books\\Python\nggoooood C:\\Users\\jimmy\\books\\Python\\.index\nsearching  <DirEntry 'new'> C:\\Users\\jimmy\\books\\Python\\new\nnooo good C:\\Users\\jimmy\\books\\Python\\new\\.index\n{'count': 0, 'release': 1, 'early': 1, 'ipython': 3, 'numpy': 4, 'pandas': 9, 'wrangling': 4, 'data': 10, 'analysis': 6, 'python': 7, 'reilly': 2, 'publishing': 1, 'anthony': 1, 'mastering': 2, 'kumar': 1, 'ashish': 1, 'mckinney': 1, 'using': 3, 'visualization': 2, 'collection': 1, 'perform': 1, 'effciently': 1, 'hands': 1, 'series': 1, 'time': 1, 'computing': 1, 'scientific': 1, 'recipes': 1, 'cookbook': 1, 'humber': 1, 'max': 1, 'recurrent': 1, 'requests': 1, 'finance': 1, 'personal': 1, 'nelli': 1, 'fabio': 1, 'matplotlib': 1, 'analytics': 1}\n{'count': 0, 'way': 1, 'hard': 1, 'python': 65, 'more': 1, 'learn': 3, 'programming': 14, 'starting': 1, 'jun': 2, 'example': 2, 'library': 3, 'standard': 2, 'edition': 8, 'professional': 2, 'novice': 2, 'beginning': 4, 'hetland': 1, 'scripts': 1, 'transformation': 1, 'visual': 1, 'crafting': 1, 'visualization': 2, 'coding': 2, 'elegant': 1, 'clean': 1, 'mongodb': 1, 'fundamentals': 2, 'science': 3, 'data': 3, 'development': 1, 'agile': 1, 'foundations': 2, 'dec': 1, 'network': 3, 'models': 1, 'learning': 9, 'deep': 1, 'machine': 4, 'based': 1, 'build': 1, 'pyspark': 1, 'guide': 1, 'implementation': 1, 'practical': 2, 'steps': 1, 'six': 1, 'mastering': 2, 'johansson': 1, 'robert': 1, 'numerical': 1, 'beginners': 1, 'absolute': 1, 'nov': 1, 'algorithms': 3, 'analysis': 1, 'big': 1, 'book': 2, 'idioms': 1, 'patterns': 3, 'eckel': 1, 'bruce': 1, 'design': 5, 'software': 4, 'press': 1, 'university': 1, 'cambridge': 1, 'tea': 1, 'green': 1, 'version': 2, 'introduction': 1, 'think': 3, 'downey': 2, 'engineers': 1, 'reverse': 1, 'hackers': 1, 'hat': 1, 'gray': 1, 'dewey': 1, 'jeffrey': 1, 'elkner': 1, 'allen': 1, 'scientist': 2, 'computer': 3, 'how': 2, 'stephens': 1, 'rod': 1, 'using': 2, 'approach': 1, 'essential': 3, 'analytic': 1, 'predictive': 1, 'techniques': 1, 'spark': 1, 'use': 1, 'making': 1, 'platform': 2, 'mobile': 4, 'applications': 2, 'prototyping': 2, 'rapid': 2, 'dummies': 2, 'one': 1, 'all': 1, 'meap': 1, 'exercises': 1, 'workout': 1, 'jan': 2, 'quick': 1, 'advanced': 1, 'reilly': 7, 'oriented': 2, 'object': 2, 'powerful': 1, 'lutz': 1, 'ascher': 1, 'cookbook': 1, 'nutshell': 1, 'intelligence': 1, 'collective': 1, 'reference': 3, 'pocket': 1, 'oct': 1, 'essentials': 1, 'twisted': 1, 'engine': 2, 'app': 2, 'google': 2, 'projects': 1, 'your': 1, 'distributing': 1, 'designing': 1, 'practices': 1, 'best': 1, 'expert': 1, 'anthology': 1, 'core': 1, 'thinking': 1, 'grayson': 1, 'tkinter': 2, 'matlab': 1, 'phrasebook': 1, 'sams': 1, 'scientific': 1, 'primer': 1, 'computational': 1, 'scripting': 1, 'gui': 1}\nsearching  <DirEntry 'pattern'> C:\\Users\\jimmy\\books\\pattern\nnooo good C:\\Users\\jimmy\\books\\pattern\\.index\n{'count': 0, 'martin': 5, 'robert': 3, 'craftsman': 1, 'architecture': 5, 'clean': 6, 'software': 6, 'agile': 1, 'handbook': 1, 'code': 4, 'albin': 1, 'stephen': 1, 'techniques': 1, 'methods': 1, 'design': 7, 'art': 1, 'development': 2, 'programming': 1, 'computer': 1, 'methodologies': 1, 'frameworks': 1, 'computing': 2, 'data': 2, 'big': 1, 'science': 1, 'woolf': 1, 'hohpe': 1, 'patterns': 8, 'integration': 1, 'enterprise': 1, 'aws': 1, 'cloud': 3, 'implementing': 1, 'programmers': 1, 'professional': 1, 'conduct': 1, 'coder': 2, 'gousios': 1, 'georgios': 1, 'spinellis': 1, 'diomidis': 1, 'beauty': 1, 'hidden': 1, 'reveal': 1, 'thinkers': 1, 'leading': 1, 'beautiful': 1, 'reilly': 1, 'first': 1, 'head': 1, 'implementation': 1, 'architectural': 1, 'practical': 1, 'front': 1, 'enough': 1, 'just': 1, 'sketching': 1, 'architectures': 1, 'collaboration': 1, 'coaching': 1, 'coding': 2, 'leadership': 1, 'technical': 1, 'developers': 1, 'dooley': 1, 'refactoring': 1, 'testing': 1, 'unit': 1, 'debugging': 1, 'applications': 1, 'manage': 1, 'build': 1, 'fundamentals': 1, 'collection': 1, 'volume': 1, 'system': 1, 'oriented': 1, 'pattern': 1}\nsearching  <DirEntry 'math'> C:\\Users\\jimmy\\books\\math\nnooo good C:\\Users\\jimmy\\books\\math\\.index\n{'count': 0, 'engineers': 1, 'scientists': 1, 'physics': 1, 'math': 1, 'fundamental': 1, 'blitzer': 1, 'robert': 1, 'mathematically': 1, 'thinking': 1, 'mathematics': 1, 'encyclopedia': 1, 'research': 1, 'wolfram': 1}\nsearching  <DirEntry 'js'> C:\\Users\\jimmy\\books\\js\nnooo good C:\\Users\\jimmy\\books\\js\\.index\nsearching  <DirEntry 'Vue.js'> C:\\Users\\jimmy\\books\\js\\Vue.js\nnooo good C:\\Users\\jimmy\\books\\js\\Vue.js\\.index\n{'count': 0, 'express': 1, 'node': 2, 'vue': 15, 'mongodb': 1, 'stack': 2, 'web': 7, 'modern': 2, 'apps': 2, 'powerful': 1, 'scalable': 1, 'build': 4, 'development': 2, 'full': 1, 'nelson': 1, 'brett': 1, 'scratch': 1, 'applications': 3, 'page': 1, 'single': 1, 'learn': 3, 'know': 1, 'getting': 1, 'easily': 1, 'reactive': 1, 'complex': 1, 'amazing': 1, 'how': 1, 'learning': 1, 'cookbook': 2, 'json': 1, 'javascript': 1, 'rischpater': 1, 'ray': 1, 'eng': 1, 'com': 1, 'leanpub': 1, 'you': 1, 'maniatis': 1, 'kyriakidis': 1, 'majesty': 1, 'building': 1, 'projects': 1, 'action': 3, 'meap': 1, 'running': 1, 'interactive': 1}\nsearching  <DirEntry 'TypeScript'> C:\\Users\\jimmy\\books\\js\\TypeScript\nnooo good C:\\Users\\jimmy\\books\\js\\TypeScript\\.index\n{'count': 0, 'jansen': 2, 'development': 4, 'javascript': 4, 'modern': 2, 'typescript': 9, 'mastering': 1, 'fenton': 1, 'steve': 1, 'scale': 1, 'application': 1, 'pro': 1, 'remo': 1, 'blueprints': 1, 'patterns': 3, 'design': 3, 'learning': 1, 'efficiency': 1, 'your': 1, 'boost': 1, 'essentials': 1}\nsearching  <DirEntry 'Node.js'> C:\\Users\\jimmy\\books\\js\\Node.js\nnooo good C:\\Users\\jimmy\\books\\js\\Node.js\\.index\nsearching  <DirEntry 'Express'> C:\\Users\\jimmy\\books\\js\\Node.js\\Express\nnooo good C:\\Users\\jimmy\\books\\js\\Node.js\\Express\\.index\n{'count': 0, 'reference': 1, 'api': 1, 'deep': 1, 'express': 6, 'pro': 1, 'pug': 1, 'node': 3, 'applications': 1, 'web': 3, 'programming': 1, 'stack': 1, 'javascript': 1, 'leveraging': 1, 'development': 2, 'reilly': 1, 'blueprints': 1, 'application': 1, 'mastering': 1}\n{'count': 0, 'node': 37, 'beginning': 1, 'approach': 1, 'solution': 1, 'problem': 1, 'recipes': 1, 'apps': 1, 'web': 7, 'scalable': 3, 'world': 1, 'real': 1, 'building': 7, 'practical': 1, 'developers': 1, 'pro': 2, 'development': 4, 'api': 3, 'rest': 2, 'programming': 2, 'reactive': 1, 'javascript': 4, 'applications': 4, 'adonisjs': 1, 'guide': 2, 'definitive': 1, 'apis': 1, 'basics': 1, 'essential': 1, 'collection': 1, 'fundamentals': 1, 'software': 1, 'based': 1, 'professional': 1, 'raspberry': 1, 'build': 3, 'jumpstarting': 1, 'tutorial': 1, 'comprehensive': 1, 'book': 1, 'beginner': 1, 'publishing': 1, 'lean': 1, 'testing': 1, 'writing': 1, 'action': 2, 'express': 1, 'get': 1, 'practice': 1, 'serverless': 1, 'azure': 1, 'windows': 1, 'application': 3, 'first': 1, 'your': 2, 'create': 1, 'nodejs': 3, 'microsoft': 1, 'side': 2, 'server': 2, 'moving': 1, 'learning': 2, 'reilly': 2, 'systems': 1, 'embedded': 1, 'bhintade': 1, 'madan': 1, 'freitas': 1, 'eduardo': 1, 'bots': 1, 'deploying': 1, 'microservices': 1, 'developing': 1, 'mastering': 1, 'patterns': 3, 'design': 4, 'edition': 2, 'modular': 1, 'practices': 1, 'best': 1, 'master': 1, 'performance': 1, 'high': 1, 'cookbook': 1, 'restful': 1, 'mongodb': 2, 'using': 1, 'scratch': 1, 'featured': 1, 'full': 1, 'interactive': 1, 'hands': 1, 'pragmatic': 2, 'secure': 1, 'programmers': 1, 'way': 1, 'right': 1, 'wilson': 1}\nsearching  <DirEntry 'MongoDB'> C:\\Users\\jimmy\\books\\js\\MongoDB\nnooo good C:\\Users\\jimmy\\books\\js\\MongoDB\\.index\n{'count': 0, 'developers': 1, 'mongodb': 6, 'tricks': 1, 'tips': 1, 'computing': 2, 'desktop': 2, 'cloud': 2, 'database': 2, 'nosql': 2, 'guide': 3, 'definitive': 3, 'patterns': 1, 'design': 1, 'applied': 1, 'edition': 1, 'cookbook': 1, 'reilly': 1}\nsearching  <DirEntry 'Meteor'> C:\\Users\\jimmy\\books\\js\\Meteor\nnooo good C:\\Users\\jimmy\\books\\js\\Meteor\\.index\n{'count': 0, 'apps': 2, 'web': 2, 'javascript': 3, 'time': 1, 'real': 1, 'building': 2, 'meteor': 6, 'discover': 1, 'action': 1, 'page': 1, 'single': 1, 'edition': 1, 'framework': 2, 'started': 2, 'getting': 2, 'cookbook': 1}\nsearching  <DirEntry 'JScript Stack'> C:\\Users\\jimmy\\books\\js\\JScript Stack\nnooo good C:\\Users\\jimmy\\books\\js\\JScript Stack\\.index\n{'count': 0, 'mongodb': 5, 'node': 7, 'backbone': 4, 'learn': 1, 'javascript': 3, 'stack': 6, 'full': 4, 'net': 1, 'asp': 1, 'using': 1, 'development': 6, 'application': 1, 'page': 2, 'single': 2, 'pro': 2, 'react': 1, 'express': 3, 'mongo': 2, 'app': 1, 'web': 6, 'mern': 1, 'angular': 2, 'mean': 2, 'getting': 1, 'applications': 1, 'building': 2, 'reilly': 1, 'running': 1, 'meteor': 1, 'apps': 2, 'modern': 1, 'powerful': 1, 'scalable': 1, 'build': 1, 'vue': 1, 'nodejs': 1, 'learning': 1, 'start': 1, 'agile': 1, 'prototyping': 1, 'rapid': 1, 'angularjs': 1, 'point': 1, 'site': 1}\nsearching  <DirEntry 'JavaScript'> C:\\Users\\jimmy\\books\\js\\JavaScript\nnooo good C:\\Users\\jimmy\\books\\js\\JavaScript\\.index\n{'count': 0, 'development': 6, 'javascript': 45, 'driven': 1, 'test': 1, 'ecmascript': 2, 'using': 4, 'programming': 4, 'functional': 2, 'beginning': 3, 'professional': 1, 'novice': 1, 'ajax': 1, 'scripting': 1, 'dom': 1, 'modern': 6, 'guide': 4, 'ultimate': 1, 'standard': 1, 'latest': 1, 'humans': 1, 'typescript': 13, 'expressions': 1, 'regular': 1, 'introducing': 1, 'fundamentals': 1, 'algorithm': 1, 'structure': 1, 'data': 3, 'core': 1, 'implementing': 1, 'understanding': 2, 'introduction': 1, 'algorithms': 1, 'structures': 1, 'groovy': 1, 'scala': 1, 'java': 1, 'easy': 1, 'made': 1, 'scale': 1, 'application': 1, 'pro': 1, 'jquery': 3, 'html': 4, 'learns': 1, 'engineer': 1, 'software': 1, 'cameron': 1, 'dane': 1, 'edition': 2, 'bible': 2, 'minds': 2, 'hungry': 2, 'examples': 1, 'css': 2, 'con': 1, 'hoepli': 1, 'ita': 1, 'meap': 1, 'ninja': 2, 'secrets': 2, 'frameworks': 1, 'leading': 1, 'applications': 2, 'web': 4, 'strength': 1, 'industrial': 1, 'ready': 1, 'enterprise': 1, 'build': 1, 'mastering': 4, 'demystified': 1, 'visualization': 1, 'starch': 3, 'oriented': 2, 'object': 2, 'principles': 1, 'developers': 2, 'definitive': 2, 'performance': 2, 'high': 2, 'reilly': 6, 'cookbook': 4, 'patterns': 4, 'design': 4, 'learning': 2, 'release': 1, 'early': 1, 'security': 1, 'grammar': 1, 'types': 1, 'know': 1, 'don': 1, 'you': 1, 'dive': 1, 'practical': 1, 'projects': 1, 'advanced': 1, 'meteor': 1, 'apps': 1, 'page': 1, 'single': 1, 'building': 2, 'concurrency': 1, 'json': 1, 'learn': 1, 'jan': 1, 'moodle': 1, 'blueprints': 1, 'efficiency': 1, 'your': 2, 'boost': 1, 'essentials': 1, 'beginner': 1, 'absolute': 1, 'yourself': 1, 'teach': 1, 'sams': 1, 'hours': 1, 'mansilla': 1, 'sergi': 1, 'code': 1, 'asynchronous': 1, 'untangle': 1, 'rxjs': 1, 'reactive': 1, 'morgan': 1, 'joe': 1, 'writing': 1, 'simplifying': 1, 'sitepoint': 1, 'hacks': 1, 'tricks': 1, 'tips': 1, 'essential': 1, 'anthology': 1, 'site': 1, 'trainer': 1, 'hour': 1}\nsearching  <DirEntry 'HTML, CSS, JSON'> C:\\Users\\jimmy\\books\\js\\HTML, CSS, JSON\nnooo good C:\\Users\\jimmy\\books\\js\\HTML, CSS, JSON\\.index\n{'count': 0, 'publishing': 1, 'cookbook': 1, 'json': 1, 'javascript': 3, 'reilly': 1, 'release': 1, 'early': 1, 'css': 1, 'html': 2, 'using': 1, 'developers': 1, 'web': 1, 'security': 1, 'trainer': 1, 'hour': 1, 'jquery': 1}\nsearching  <DirEntry 'Backbone.js'> C:\\Users\\jimmy\\books\\js\\Backbone.js\nnooo good C:\\Users\\jimmy\\books\\js\\Backbone.js\\.index\n{'count': 0, 'backbone': 10, 'beginning': 4, 'dec': 1, 'sugrue': 2, 'james': 2, 'sulc': 1, 'david': 1, 'progression': 1, 'serious': 1, 'marionette': 1, 'may': 1, 'burgess': 1, 'andrew': 1, 'blueprints': 1, 'edition': 1, 'early': 1, 'applications': 2, 'developing': 2, 'june': 1, 'mulder': 1, 'patrick': 1, 'development': 1, 'web': 1, 'stack': 1, 'full': 1, 'osmani': 1, 'addy': 1, 'reilly': 1, 'aug': 1, 'cookbook': 1}\n{'count': 0, 'patterns': 1, 'design': 1, 'jquery': 1, 'davis': 1, 'javascript': 2, 'groovy': 1, 'scala': 1, 'java': 1, 'using': 1, 'easy': 1, 'made': 1, 'programming': 2, 'modern': 2, 'mansilla': 1, 'sergi': 1, 'code': 1, 'asynchronous': 1, 'your': 1, 'untangle': 1, 'rxjs': 1, 'reactive': 1, 'edition': 1, 'movement': 1, 'nosql': 1, 'databases': 2, 'guide': 1, 'weeks': 1, 'seven': 2}\nsearching  <DirEntry 'English'> C:\\Users\\jimmy\\books\\English\nnooo good C:\\Users\\jimmy\\books\\English\\.index\n{'count': 0, 'edition': 2, 'toeic': 2, 'words': 1, 'essential': 1, 'barron': 1, 'vocabulary': 1, 'business': 1, 'cobuild': 1, 'collins': 1, 'rar': 1, 'fourth': 1, 'tests': 1, 'practice': 1, 'more': 1, 'test': 1, 'new': 1, 'series': 1, 'preparation': 1, 'longman': 1}\nsearching  <DirEntry 'cloud'> C:\\Users\\jimmy\\books\\cloud\nnooo good C:\\Users\\jimmy\\books\\cloud\\.index\n{'count': 0, 'distilled': 1, 'code': 1, 'studio': 1, 'visual': 1, 'docker': 1, 'learning': 1, 'patterson': 1, 'scott': 1, 'computing': 1, 'serverless': 1, 'aws': 1, 'learn': 1}\nsearching  <DirEntry 'architecture'> C:\\Users\\jimmy\\books\\architecture\nnooo good C:\\Users\\jimmy\\books\\architecture\\.index\n{'count': 0, 'art': 1, 'architecture': 1, 'design': 3, 'modern': 1, 'bridge': 1, 'steel': 1, 'guide': 1, 'student': 1, 'mgh': 1, 'pat': 1, 'guthrie': 1, 'building': 1, 'thumb': 1, 'rules': 1, 'step': 1, 'first': 1, 'handbook': 1, 'portable': 1, 'architect': 1, 'houses': 10, 'ten': 10, 'buildings': 1, 'dictionary': 1, 'visual': 1}\n{'count': 0, 'process': 1, 'thought': 1, 'oriented': 1, 'object': 1, 'action': 1, 'technology': 1, 'theory': 1, 'projects': 1, 'radio': 2, 'communications': 1, 'beginning': 1, 'synthesis': 1, 'polymer': 1, 'handbook': 1, 'chemistry': 2, 'popper': 2, 'karl': 1, 'refutations': 1, 'conjectures': 1, 'dictionary': 1, 'things': 1, 'finding': 1, 'pleasure': 1, 'feynman': 2, 'code': 1, 'learn': 1, 'first': 1, 'head': 1, 'cybersecurity': 1, 'essentials': 1, 'linux': 1, 'discovery': 1, 'scientific': 1, 'logic': 1, 'investigation': 1, 'challenger': 1, 'think': 1, 'people': 1, 'other': 1, 'what': 2, 'care': 1, 'you': 1, 'richard': 1, 'language': 1, 'programming': 2, 'boteler': 1, 'alison': 1, 'extraordinary': 1, 'ordinary': 1, 'recipes': 1, 'simple': 1, 'take': 1, 'wine': 2, 'use': 1, 'how': 1, 'cooking': 1, 'guide': 1, 'gourmet': 1, 'dummies': 1, 'functional': 1, 'rtf': 1, 'doc': 1}\n"
     ]
    }
   ],
   "source": [
    "import os\n",
    "import re\n",
    "\n",
    "def exclude_word(word_list):\n",
    "    prepositions = [\n",
    "        'aboard', 'about', 'above', 'across', 'after', 'against', 'along', 'amid', 'among',\n",
    "        'around', 'before', 'behind', 'below', 'beneath', 'beside', 'between', 'beyond', 'but',                        'concerning', 'considering', 'despite', 'down', 'during', 'except', 'following', 'for',\n",
    "        'from', 'inside', 'into', 'like', 'minus', 'near', 'next', 'off', 'onto', 'opposite',\n",
    "        'out', 'outside', 'over', 'past', 'per', 'plus', 'regarding', 'round', 'save', 'since',\n",
    "        'than', 'through', 'till', 'toward', 'under', 'underneath', 'unlike', 'until', 'upon',\n",
    "        'versus', 'via', 'with', 'within', 'without', 'the', 'and', 'docx', 'pdf',\n",
    "        ]\n",
    "    publishers = [\n",
    "        'apress', 'packt', 'oreilly', 'addison', 'wesley', 'john', 'wiley', 'manning', 'mcgraw',\n",
    "        'hill', 'prentice', 'hall', 'pearson',  'springer',\n",
    "        ]\n",
    "\n",
    "    [word_list.remove(wd) for pb in publishers for wd in word_list if wd == pb]\n",
    "    [word_list.remove(wd) for pp in prepositions for wd in word_list if wd == pp]\n",
    "    #for wd in word_list:\n",
    "    #     for pp in prepositions:\n",
    "    #         if wd == pp:\n",
    "    #             word_list.remove(wd)\n",
    "\n",
    "    #for wl in word_list:             \n",
    "    #    for pb in publishers:\n",
    "    #        if wl == pb:\n",
    "    #            word_list.remove(wl)\n",
    "\n",
    "    return word_list\n",
    "\n",
    "#def index_words(words)\n",
    "#    if os.\n",
    "def parse_name(file_name):\n",
    "    string = file_name.lower()\n",
    "    pattern = '[a-zA-Z]{3,20}'\n",
    "    result = re.findall(pattern, string)\n",
    "    wordlst = exclude_word(result)\n",
    "    #print(wordlst)\n",
    "    return wordlst\n",
    "\n",
    "def dir_walk(current_dir):\n",
    "    print(\"searching \", current_dir, os.path.abspath(current_dir))\n",
    "    dirs = []\n",
    "    index={'count': 0}\n",
    "    index_file=os.path.join(os.path.abspath(current_dir), '.index')\n",
    "    if os.path.isfile(index_file):\n",
    "        print('ggoooood',index_file)\n",
    "    else:\n",
    "        print('nooo good',index_file)\n",
    "    with os.scandir(current_dir) as it:\n",
    "        for entry in it:\n",
    "            if not entry.name.startswith('.') and entry.is_file() and not entry.name.endswith('ini'):\n",
    "                words = parse_name(entry.name)\n",
    "                #if words: print(words)\n",
    "                while words:\n",
    "                    word = words.pop()\n",
    "                    if index.get(word):\n",
    "                        index[word] = index[word] + 1\n",
    "                    else:\n",
    "                        index[word] = 1 \n",
    "            elif entry.is_dir():\n",
    "                dirs.append(entry)\n",
    "       # index\n",
    "    while dirs:\n",
    "        dir_walk(dirs.pop())\n",
    "    print(index)\n",
    "    return None\n",
    "\n",
    "dir_walk('C:\\\\Users\\\\jimmy\\\\books')                    \n",
    "\n",
    "                \n"
   ]
  },
  {
   "cell_type": "code",
   "execution_count": 52,
   "metadata": {},
   "outputs": [
    {
     "output_type": "stream",
     "name": "stdout",
     "text": [
      "['Packt', 'Hands', 'data', 'analysis', 'with', 'Pandas', 'Effciently', 'perform', 'data', 'collection', 'wrangling', 'analysis', 'visualization', 'using', 'Python']\n"
     ]
    },
    {
     "output_type": "execute_result",
     "data": {
      "text/plain": [
       "{'Python': 1,\n",
       " 'using': 1,\n",
       " 'visualization': 1,\n",
       " 'analysis': 2,\n",
       " 'wrangling': 1,\n",
       " 'collection': 1,\n",
       " 'data': 2,\n",
       " 'perform': 1,\n",
       " 'Effciently': 1,\n",
       " 'Pandas': 1,\n",
       " 'with': 1,\n",
       " 'Hands': 1,\n",
       " 'Packt': 1}"
      ]
     },
     "metadata": {},
     "execution_count": 52
    }
   ],
   "source": [
    "import re\n",
    "\n",
    "string = 'Packt - Hands-On data analysis with Pandas_ Effciently perform data collection, wrangling, analysis, and visualization using Python (2019).pdf'\n",
    "pattern = '[a-zA-Z]{4,20}'\n",
    "index = {}\n",
    "words = re.findall(pattern, string) \n",
    "print(words)\n",
    "while words:\n",
    "    word = words.pop()\n",
    "    if index.get(word):\n",
    "        index[word] = index[word] + 1\n",
    "    else:\n",
    "        index[word] = 1 \n",
    "index"
   ]
  },
  {
   "cell_type": "code",
   "execution_count": 62,
   "metadata": {},
   "outputs": [
    {
     "output_type": "execute_result",
     "data": {
      "text/plain": [
       "['.git', '.ipynb_checkpoints', 'books.ipynb', 'workspace.code-workspace']"
      ]
     },
     "metadata": {},
     "execution_count": 62
    }
   ],
   "source": [
    "import os\n",
    "lst=os.listdir('.')\n",
    "lst"
   ]
  },
  {
   "cell_type": "code",
   "execution_count": null,
   "metadata": {},
   "outputs": [],
   "source": []
  },
  {
   "cell_type": "code",
   "execution_count": null,
   "metadata": {},
   "outputs": [],
   "source": []
  }
 ]
}