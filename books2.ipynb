{
 "metadata": {
  "language_info": {
   "codemirror_mode": {
    "name": "ipython",
    "version": 3
   },
   "file_extension": ".py",
   "mimetype": "text/x-python",
   "name": "python",
   "nbconvert_exporter": "python",
   "pygments_lexer": "ipython3",
   "version": "3.9.1-final"
  },
  "orig_nbformat": 2,
  "kernelspec": {
   "name": "python39164bit7c985ea6973948f88124b25f9d5d46d8",
   "display_name": "Python 3.9.1 64-bit"
  }
 },
 "nbformat": 4,
 "nbformat_minor": 2,
 "cells": [
  {
   "cell_type": "code",
   "execution_count": null,
   "metadata": {},
   "outputs": [],
   "source": [
    "import os\n",
    "import re\n",
    "\n",
    "    def exclude_word(word_list):\n",
    "        prepositions = [\n",
    "            'aboard', 'about', 'above', 'across', 'after', 'against', 'along', 'amid', 'among',\n",
    "            'around', 'before', 'behind', 'below', 'beneath', 'beside', 'between', 'beyond', 'but',                        'concerning', 'considering', 'despite', 'down', 'during', 'except', 'following', 'for',\n",
    "            'from', 'inside', 'into', 'like', 'minus', 'near', 'next', 'off', 'onto', 'opposite',\n",
    "            'out', 'outside', 'over', 'past', 'per', 'plus', 'regarding', 'round', 'save', 'since',\n",
    "            'than', 'through', 'till', 'toward', 'under', 'underneath', 'unlike', 'until', 'upon',\n",
    "            'versus', 'via', 'with', 'within', 'without', 'the', 'and', 'docx', 'pdf',\n",
    "        ]\n",
    "        publishers = [\n",
    "            'apress', 'packt', 'oreilly', 'addison', 'wesley', 'john', 'wiley', 'manning', 'mcgraw',\n",
    "            'hill', 'prentice', 'hall', 'pearson',  'springer',\n",
    "            ]\n",
    "    \n",
    "        [word_list.remove(wd) for pb in publishers for wd in word_list if wd == pb]\n",
    "        [word_list.remove(wd) for pp in prepositions for wd in word_list if wd == pp]\n",
    "        #for wd in word_list:\n",
    "        #     for pp in prepositions:\\n\",\n",
    "        #         if wd == pp:\\n\",\n",
    "        #             word_list.remove(wd)\\n\",\n",
    "    \n",
    "        #for wl in word_list:             \\n\",\n",
    "        #    for pb in publishers:\\n\",\n",
    "        #        if wl == pb:\\n\",\n",
    "        #            word_list.remove(wl)\\n\",\n",
    "    \n",
    "        return word_list\n",
    "    \n",
    "    #def index_words(words)\n",
    "    #    if os.\n",
    "    def parse_name(file_name):\n",
    "        string = file_name.lower()\n",
    "        pattern = '[a-zA-Z]{3,20}'\n",
    "        result = re.findall(pattern, string)\n",
    "        wordlst = exclude_word(result)\n",
    "        #print(wordlst)\\n\",\n",
    "        return wordlst\n",
    "    \n",
    "    def dir_walk(current_dir):\n",
    "        print(\"searching \", current_dir, os.path.abspath(current_dir))\n",
    "        dirs = []\n",
    "        index={'count': 0}\n",
    "        index_file=os.path.join(os.path.abspath(current_dir), '.index')\n",
    "        if os.path.isfile(index_file):\n",
    "            print('ggoooood',index_file)\n",
    "        else:\n",
    "            print('nooo good',index_file)\n",
    "        with os.scandir(current_dir) as it:\n",
    "            for entry in it:\n",
    "                if not entry.name.startswith('.') and entry.is_file() and not entry.name.endswith('ini'):\n",
    "                    words = parse_name(entry.name)\n",
    "                    #if words: print(words)\n",
    "                    while words:\n",
    "                        word = words.pop()\n",
    "                        if index.get(word):\n",
    "                            index[word] = index[word] + 1\n",
    "                        else:\n",
    "                            index[word] = 1 \n",
    "                elif entry.is_dir():\n",
    "                    dirs.append(entry)\n",
    "           # index\\n\",\n",
    "        while dirs:\n",
    "            dir_walk(dirs.pop())\n",
    "        print(index)\n",
    "        return None\n",
    "    \n",
    "    dir_walk('C:\\\\Users\\\\jimmy\\\\books')                    "
   ]
  },
  {
   "cell_type": "code",
   "execution_count": 14,
   "metadata": {},
   "outputs": [
    {
     "output_type": "stream",
     "name": "stdout",
     "text": [
      "5\n"
     ]
    }
   ],
   "source": [
    "import os\n",
    "import json\n",
    "\n",
    "d={}\n",
    "index_file = 'D:\\\\temp\\\\.index'\n",
    "try:\n",
    "    d = json.load(open(index_file, 'r'))\n",
    "except:\n",
    "    pass\n",
    "d={'count': 19, 'python': 11, 'jscript': 5, 'node': 3}\n",
    "print(d['jscript'])\n",
    "df = open(index_file, 'w+')\n",
    "json.dump(d, df)\n",
    "df.close()"
   ]
  },
  {
   "cell_type": "code",
   "execution_count": null,
   "metadata": {},
   "outputs": [],
   "source": []
  }
 ]
}